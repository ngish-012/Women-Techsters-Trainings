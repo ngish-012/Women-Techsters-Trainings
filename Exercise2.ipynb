{
  "nbformat": 4,
  "nbformat_minor": 0,
  "metadata": {
    "colab": {
      "provenance": [],
      "collapsed_sections": [],
      "authorship_tag": "ABX9TyMgUpwBLXmh9qzus8+nZ/F1",
      "include_colab_link": true
    },
    "kernelspec": {
      "name": "python3",
      "display_name": "Python 3"
    },
    "language_info": {
      "name": "python"
    }
  },
  "cells": [
    {
      "cell_type": "markdown",
      "metadata": {
        "id": "view-in-github",
        "colab_type": "text"
      },
      "source": [
        "<a href=\"https://colab.research.google.com/github/ngish-012/Hello-world/blob/master/Exercise2.ipynb\" target=\"_parent\"><img src=\"https://colab.research.google.com/assets/colab-badge.svg\" alt=\"Open In Colab\"/></a>"
      ]
    },
    {
      "cell_type": "code",
      "execution_count": null,
      "metadata": {
        "id": "p1yletOAO80W"
      },
      "outputs": [],
      "source": [
        "#Write a program which prompts the user for a Celsius temperature, convert the temperature to Fahrenheit, and print out the\n",
        "#converted temperature."
      ]
    },
    {
      "cell_type": "code",
      "source": [],
      "metadata": {
        "id": "stkk2PYyes2j"
      },
      "execution_count": null,
      "outputs": []
    },
    {
      "cell_type": "code",
      "source": [
        "temperature = input(\"Enter temperature in degrees celsius: \")\n",
        "#To convert temperatures in degrees Celsius to Fahrenheit, multiply by 1.8 (or 9/5) and add 32.\n",
        "fahrenheit = float(temperature)*1.8+32\n",
        "print(fahrenheit)\n"
      ],
      "metadata": {
        "colab": {
          "base_uri": "https://localhost:8080/"
        },
        "id": "EPcpjAjpPLhZ",
        "outputId": "2ee6e9d8-1d5a-4b22-d17c-5d9e7ac84d66"
      },
      "execution_count": null,
      "outputs": [
        {
          "output_type": "stream",
          "name": "stdout",
          "text": [
            "Enter temperature in degrees celsius: 30\n",
            "86.0\n"
          ]
        }
      ]
    },
    {
      "cell_type": "code",
      "source": [
        "x=3\n",
        "if x < 10:\n",
        "  print(\"small\")\n",
        "print(\"done\")"
      ],
      "metadata": {
        "colab": {
          "base_uri": "https://localhost:8080/"
        },
        "id": "MiNxbQLQS-OK",
        "outputId": "2c0b6dd7-87d3-41f9-a12b-9dc0bda93391"
      },
      "execution_count": null,
      "outputs": [
        {
          "output_type": "stream",
          "name": "stdout",
          "text": [
            "small\n",
            "done\n"
          ]
        }
      ]
    },
    {
      "cell_type": "code",
      "source": [
        "inp = input('Enter Fahrenheit Temperature: ')\n",
        "fahr = float(inp)\n",
        "cel = (fahr - 32.0) * 5.0 / 9.0\n",
        "print(cel)"
      ],
      "metadata": {
        "colab": {
          "base_uri": "https://localhost:8080/"
        },
        "id": "DnD4qgR9TRyT",
        "outputId": "b5d035be-286e-468e-9450-8bf1d53e1907"
      },
      "execution_count": null,
      "outputs": [
        {
          "output_type": "stream",
          "name": "stdout",
          "text": [
            "Enter Fahrenheit Temperature: 30\n",
            "-1.1111111111111112\n"
          ]
        }
      ]
    },
    {
      "cell_type": "code",
      "source": [
        "inp = input('Enter Fahrenheit Temperature:')\n",
        "try:\n",
        "    fahr = float(inp)\n",
        "    cel = (fahr - 32.0) * 5.0 / 9.0\n",
        "    print(cel)\n",
        "except:\n",
        "    print('Please enter a number')"
      ],
      "metadata": {
        "colab": {
          "base_uri": "https://localhost:8080/"
        },
        "id": "WnwvBajEafek",
        "outputId": "beedf4ad-7811-44da-810d-44ba49c6c45e"
      },
      "execution_count": null,
      "outputs": [
        {
          "output_type": "stream",
          "name": "stdout",
          "text": [
            "Enter Fahrenheit Temperature:30\n",
            "-1.1111111111111112\n"
          ]
        }
      ]
    },
    {
      "cell_type": "code",
      "source": [
        "#Rewrite your pay computation to give the employee 1.5 times the hourly rate for hours worked above 40 hours.\n",
        "#Enter Hours: 45\n",
        "#Enter Rate: 10\n",
        "#Pay: 475.0\n",
        "hrs=input(\"Enter Hour:\")\n",
        "rate=input(\"Enter Rate per Hour:\")\n",
        "hours = float(hrs)\n",
        "realrate = float(rate)\n",
        "overtime= hours-40\n",
        "if hours > 40:\n",
        "  pay = (40 * realrate) + (overtime*1.5*realrate)\n",
        "else:\n",
        "  pay = realrate*hours\n",
        "\n",
        "print(pay)"
      ],
      "metadata": {
        "colab": {
          "base_uri": "https://localhost:8080/"
        },
        "id": "1imrOb43a2nk",
        "outputId": "638e5f59-ce2f-49f7-8cbb-57cad5ae5bb2"
      },
      "execution_count": 14,
      "outputs": [
        {
          "output_type": "stream",
          "name": "stdout",
          "text": [
            "Enter Hour:45\n",
            "Enter Rate per Hour:10\n",
            "475.0\n"
          ]
        }
      ]
    },
    {
      "cell_type": "code",
      "source": [],
      "metadata": {
        "id": "YiMz3n95evpd"
      },
      "execution_count": null,
      "outputs": []
    },
    {
      "cell_type": "code",
      "source": [
        "#Rewrite your pay program using try and except so that your program handles non-numeric input gracefully by printing a message\n",
        "# and exiting the program. The following shows two executions of the program:\n",
        "#Enter Hours: 20\n",
        "#Enter Rate: nine\n",
        "#Error, please enter numeric input\n",
        "#Enter Hours: forty\n",
        "#Error, please enter numeric input\n",
        "\n",
        "hrs=input(\"Enter Hour:\")\n",
        "rate=input(\"Enter Rate per Hour:\")\n",
        "try:\n",
        "    hours = float(hrs)\n",
        "    realrate = float(rate)\n",
        "    overtime= hours-40\n",
        "    if hours > 40:\n",
        "      pay = (40 * realrate) + (overtime*1.5*realrate)\n",
        "    else:\n",
        "        pay = realrate*hours\n",
        "    print(pay)\n",
        "except:\n",
        "  print(\"Error, please enter numeric input!\")"
      ],
      "metadata": {
        "colab": {
          "base_uri": "https://localhost:8080/"
        },
        "outputId": "1fbf9281-c786-41d0-87a4-4382cfd04393",
        "id": "MAiJ3HtYg3i6"
      },
      "execution_count": 20,
      "outputs": [
        {
          "output_type": "stream",
          "name": "stdout",
          "text": [
            "Enter Hour:20\n",
            "Enter Rate per Hour:nine\n",
            "Error, please enter numeric input!\n"
          ]
        }
      ]
    },
    {
      "cell_type": "code",
      "source": [
        "#Write a program to prompt for a score between 0.0 and 1.0. If the score is out of range, print an error message. If the score is\n",
        "#between 0.0 and 1.0, print a grade using the following table:\n",
        "#>= 0.9 A, >= 0.8 B, >= 0.7 C, >= 0.6 D, < 0.6 F\n",
        "\n",
        "value = input(\"Enter score value: \")\n",
        "score = float(value)\n",
        "if score < 0.0 or score > 1.0:\n",
        "  print(\"Error, score out of range.\")\n",
        "elif score >= 0.9:\n",
        "  print(\"A\")\n",
        "elif score >= 0.8:\n",
        "  print(\"B\")\n",
        "elif score >= 0.7:\n",
        "  print(\"C\")\n",
        "elif score >= 0.6:\n",
        "  print(\"D\")\n",
        "elif score < 0.6:\n",
        "  print(\"F\")\n",
        "\n"
      ],
      "metadata": {
        "colab": {
          "base_uri": "https://localhost:8080/"
        },
        "id": "ETNWGUyDiGnJ",
        "outputId": "7fa64e2d-35f1-4308-abc6-b57063e96967"
      },
      "execution_count": 24,
      "outputs": [
        {
          "output_type": "stream",
          "name": "stdout",
          "text": [
            "Enter score value: 0.75\n",
            "C\n"
          ]
        }
      ]
    }
  ]
}