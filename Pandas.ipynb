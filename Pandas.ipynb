{
  "nbformat": 4,
  "nbformat_minor": 0,
  "metadata": {
    "colab": {
      "provenance": [],
      "collapsed_sections": [],
      "authorship_tag": "ABX9TyNWzpiKHK8cWI97Qu9QibVA",
      "include_colab_link": true
    },
    "kernelspec": {
      "name": "python3",
      "display_name": "Python 3"
    },
    "language_info": {
      "name": "python"
    }
  },
  "cells": [
    {
      "cell_type": "markdown",
      "metadata": {
        "id": "view-in-github",
        "colab_type": "text"
      },
      "source": [
        "<a href=\"https://colab.research.google.com/github/ngish-012/Women-Techsters-Trainings/blob/master/Pandas.ipynb\" target=\"_parent\"><img src=\"https://colab.research.google.com/assets/colab-badge.svg\" alt=\"Open In Colab\"/></a>"
      ]
    },
    {
      "cell_type": "code",
      "execution_count": null,
      "metadata": {
        "id": "tTWOkWRjJrEm"
      },
      "outputs": [],
      "source": [
        "#reading a file and checking for type and shape\n",
        "import pandas as pd\n",
        "f500 = pd.read_csv('f500.csv',index_col=0)\n",
        "f500.index.name = None\n",
        "\n",
        "f500_type = type(f500)\n",
        "f500_shape = f500.shape"
      ]
    },
    {
      "cell_type": "code",
      "source": [
        "#Automatically gives back the first five rows but accepts a parameter\n",
        "pd.header()\n",
        "pd.header(2)\n",
        "\n",
        "f500.header()\n",
        "f500.headee(3)"
      ],
      "metadata": {
        "id": "3AL7pXrvK-QH"
      },
      "execution_count": null,
      "outputs": []
    },
    {
      "cell_type": "code",
      "source": [
        "#we can use the DataFrame.tail() method to show us the last rows of our dataframe:\n",
        "f500.tail()\n"
      ],
      "metadata": {
        "id": "2t0-y_fiMImi"
      },
      "execution_count": null,
      "outputs": []
    },
    {
      "cell_type": "code",
      "source": [
        "#selecting columns\n",
        "df.loc[:,[\"col1\",\"col2\"]]\n",
        "df[[\"col1\", \"col2\"]]\n"
      ],
      "metadata": {
        "id": "2YR8Skz3MU7n"
      },
      "execution_count": null,
      "outputs": []
    },
    {
      "cell_type": "code",
      "source": [
        "#selecting rows\n",
        "df.loc[row_label, column_label]\n",
        "single_row = f500_selection.loc[\"Sinopec Group\"]\n",
        "print(type(single_row))\n",
        "print(single_row)"
      ],
      "metadata": {
        "id": "iAxOqeZCPbZu"
      },
      "execution_count": null,
      "outputs": []
    },
    {
      "cell_type": "code",
      "source": [
        "#series has one column, a dataframe several\n",
        "# the Series.value_counts() method. \n",
        "#This method displays each unique non-null value in a column and their counts in order.\n",
        "countries = f500[\"country\"]\n",
        "country_counts = countries.value_counts()"
      ],
      "metadata": {
        "id": "NH9zeKNDeEv9"
      },
      "execution_count": null,
      "outputs": []
    },
    {
      "cell_type": "code",
      "source": [
        "#Selecting Items from a Series by Label\n",
        "\n"
      ],
      "metadata": {
        "id": "qAluIIs9gfMP"
      },
      "execution_count": null,
      "outputs": []
    },
    {
      "cell_type": "code",
      "source": [],
      "metadata": {
        "id": "5jgLRTa_K2rF"
      },
      "execution_count": null,
      "outputs": []
    }
  ]
}