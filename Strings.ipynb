{
  "nbformat": 4,
  "nbformat_minor": 0,
  "metadata": {
    "colab": {
      "provenance": [],
      "authorship_tag": "ABX9TyM1X8HHyfXHodyt7P4IA+Qi",
      "include_colab_link": true
    },
    "kernelspec": {
      "name": "python3",
      "display_name": "Python 3"
    },
    "language_info": {
      "name": "python"
    }
  },
  "cells": [
    {
      "cell_type": "markdown",
      "metadata": {
        "id": "view-in-github",
        "colab_type": "text"
      },
      "source": [
        "<a href=\"https://colab.research.google.com/github/ngish-012/Hello-world/blob/master/Strings.ipynb\" target=\"_parent\"><img src=\"https://colab.research.google.com/assets/colab-badge.svg\" alt=\"Open In Colab\"/></a>"
      ]
    },
    {
      "cell_type": "code",
      "execution_count": 9,
      "metadata": {
        "colab": {
          "base_uri": "https://localhost:8080/"
        },
        "id": "zCg9EoCPynRA",
        "outputId": "78869418-0181-44ba-fecb-66eb2f7a08c0"
      },
      "outputs": [
        {
          "output_type": "stream",
          "name": "stdout",
          "text": [
            "b\n",
            "a\n",
            "n\n",
            "a\n",
            "n\n",
            "a\n"
          ]
        }
      ],
      "source": [
        "#Traversal through a string with a loop\n",
        "\n",
        "index = 0\n",
        "fruit = \"banana\"\n",
        "while index < len(fruit):\n",
        "  letter = fruit[index]\n",
        "  print(letter)\n",
        "  index = index + 1"
      ]
    },
    {
      "cell_type": "code",
      "source": [
        "#Write a while loop that starts at the last character in the\n",
        "#string and works its way backwards to the first character in the string,\n",
        "#printing each letter on a separate line, except backwards.\n",
        "index = 0\n",
        "fruit = \"banana\"\n",
        "while index > len(fruit):\n",
        "  letter = fruit[index]\n",
        "  print(letter)\n",
        "  index = index - 1"
      ],
      "metadata": {
        "id": "jnBEFMxx2Uvq"
      },
      "execution_count": 12,
      "outputs": []
    },
    {
      "cell_type": "code",
      "source": [
        "#string slicing\n",
        "s= 'MontyPython'\n",
        "print(s[0:5])\n",
        "print(s[5:12])\n"
      ],
      "metadata": {
        "colab": {
          "base_uri": "https://localhost:8080/"
        },
        "id": "Ph0-WpnS3Spt",
        "outputId": "0c4b30f5-5967-470f-a074-82bcde9b5ce4"
      },
      "execution_count": 14,
      "outputs": [
        {
          "output_type": "stream",
          "name": "stdout",
          "text": [
            "Monty\n",
            "Python\n"
          ]
        }
      ]
    },
    {
      "cell_type": "code",
      "source": [
        "fruit = \"banana\"\n",
        "fruit[:]"
      ],
      "metadata": {
        "colab": {
          "base_uri": "https://localhost:8080/",
          "height": 35
        },
        "id": "rZ1D4EO53ojk",
        "outputId": "1a5458e5-fc21-4483-e6ee-4fd2921b90c8"
      },
      "execution_count": 15,
      "outputs": [
        {
          "output_type": "execute_result",
          "data": {
            "text/plain": [
              "'banana'"
            ],
            "application/vnd.google.colaboratory.intrinsic+json": {
              "type": "string"
            }
          },
          "metadata": {},
          "execution_count": 15
        }
      ]
    },
    {
      "cell_type": "code",
      "source": [
        "#strings are immutable\n",
        "greeting = 'Hello, world!'\n",
        "new_greeting = 'J' + greeting[1:]\n",
        "print(new_greeting)"
      ],
      "metadata": {
        "colab": {
          "base_uri": "https://localhost:8080/"
        },
        "id": "AW--6sJp4On4",
        "outputId": "40d90019-377d-4bee-ed34-b4f77bb7b007"
      },
      "execution_count": 20,
      "outputs": [
        {
          "output_type": "stream",
          "name": "stdout",
          "text": [
            "Jello, world!\n"
          ]
        }
      ]
    },
    {
      "cell_type": "code",
      "source": [
        "word = 'banana'\n",
        "count = 0\n",
        "for letter in word:\n",
        "  if letter == 'a':\n",
        "    count = count + 1\n",
        "print(count)"
      ],
      "metadata": {
        "colab": {
          "base_uri": "https://localhost:8080/"
        },
        "id": "U7PFWpqp4-4e",
        "outputId": "016c65e7-e221-4c6a-becd-0b825e42a7bd"
      },
      "execution_count": 21,
      "outputs": [
        {
          "output_type": "stream",
          "name": "stdout",
          "text": [
            "3\n"
          ]
        }
      ]
    },
    {
      "cell_type": "code",
      "source": [
        "\n",
        "#String comparison\n",
        "if word == 'banana':\n",
        "  print('All right, bananas.')"
      ],
      "metadata": {
        "colab": {
          "base_uri": "https://localhost:8080/"
        },
        "id": "x_UWJDr96xvl",
        "outputId": "3bbf84f2-8d44-4f2f-8e66-c228995b571c"
      },
      "execution_count": 25,
      "outputs": [
        {
          "name": "stdout",
          "output_type": "stream",
          "text": [
            "Enter word: mango\n"
          ]
        }
      ]
    },
    {
      "cell_type": "code",
      "source": [
        "word= input(\"Enter word: \")\n",
        "if word < 'banana':\n",
        "  print('Your word,' + word + ', comes before banana.')\n",
        "elif word > 'banana':\n",
        "  print('Your word,' + word + ', comes after banana.')\n",
        "else:\n",
        "  print('All right, bananas.')"
      ],
      "metadata": {
        "colab": {
          "base_uri": "https://localhost:8080/"
        },
        "id": "5zEmfxfI7FzD",
        "outputId": "6153a62c-2896-4716-a869-baa717c4289b"
      },
      "execution_count": 27,
      "outputs": [
        {
          "output_type": "stream",
          "name": "stdout",
          "text": [
            "Enter word: Pineapple\n",
            "Your word,Pineapple, comes before banana.\n"
          ]
        }
      ]
    },
    {
      "cell_type": "code",
      "source": [
        "#String methods\n",
        "word = 'banana'\n",
        "new_word = word.upper()\n",
        "print(new_word)"
      ],
      "metadata": {
        "colab": {
          "base_uri": "https://localhost:8080/"
        },
        "id": "5xbge_AC7qbl",
        "outputId": "f34ebecb-649f-4b11-c580-42bcd6a3cdcb"
      },
      "execution_count": 28,
      "outputs": [
        {
          "output_type": "stream",
          "name": "stdout",
          "text": [
            "BANANA\n"
          ]
        }
      ]
    },
    {
      "cell_type": "code",
      "source": [
        "word = 'BANANA'\n",
        "new_word= word.lower()\n",
        "print (new_word)"
      ],
      "metadata": {
        "colab": {
          "base_uri": "https://localhost:8080/"
        },
        "id": "Dk_Z3tSM9BA5",
        "outputId": "7ba3ca6c-c5d7-4c48-b3a4-f3edb2ebb2bf"
      },
      "execution_count": 29,
      "outputs": [
        {
          "output_type": "stream",
          "name": "stdout",
          "text": [
            "banana\n"
          ]
        }
      ]
    },
    {
      "cell_type": "code",
      "source": [
        "#string method named find that searches for the position of one string within another\n",
        "word = 'banana'\n",
        "index = word.find('na')\n",
        "print(index)"
      ],
      "metadata": {
        "colab": {
          "base_uri": "https://localhost:8080/"
        },
        "id": "WW0FVhtN9fp1",
        "outputId": "10b74fe0-0282-400e-ce12-76a5b08acee1"
      },
      "execution_count": 31,
      "outputs": [
        {
          "output_type": "stream",
          "name": "stdout",
          "text": [
            "2\n"
          ]
        }
      ]
    },
    {
      "cell_type": "code",
      "source": [
        "#to remove white space (spaces, tabs, or newlines) from the beginning and end of a string using the strip method:\n",
        "line = ' Here we go '\n",
        "line.strip()"
      ],
      "metadata": {
        "colab": {
          "base_uri": "https://localhost:8080/",
          "height": 35
        },
        "id": "qeKUANoS92Tr",
        "outputId": "67b3042b-a75e-4d10-8622-5adb44b2f502"
      },
      "execution_count": 32,
      "outputs": [
        {
          "output_type": "execute_result",
          "data": {
            "text/plain": [
              "'Here we go'"
            ],
            "application/vnd.google.colaboratory.intrinsic+json": {
              "type": "string"
            }
          },
          "metadata": {},
          "execution_count": 32
        }
      ]
    },
    {
      "cell_type": "code",
      "source": [
        "#Some methods such as startswith return boolean values.\n",
        "line = 'Have a nice day'\n",
        "line.startswith('Have')\n"
      ],
      "metadata": {
        "colab": {
          "base_uri": "https://localhost:8080/"
        },
        "id": "y3rNHR-E-DL0",
        "outputId": "b181aa15-68b0-4a95-9008-9976b59f27ad"
      },
      "execution_count": 34,
      "outputs": [
        {
          "output_type": "execute_result",
          "data": {
            "text/plain": [
              "True"
            ]
          },
          "metadata": {},
          "execution_count": 34
        }
      ]
    },
    {
      "cell_type": "code",
      "source": [
        "#Parsing strings\n",
        "data = 'From stephen.marquard@uct.ac.za Sat Jan 5 09:14:16 2008'\n",
        "atpos = data.find('@')\n",
        "print(atpos)\n",
        "sppos = data.find(' ',atpos)\n",
        "print(sppos)\n",
        "host = data[atpos+1:sppos]\n",
        "print(host)"
      ],
      "metadata": {
        "colab": {
          "base_uri": "https://localhost:8080/"
        },
        "id": "u5OcO-lY-VTG",
        "outputId": "3d7ea578-e91c-43d8-dcf3-6e194b30888a"
      },
      "execution_count": 36,
      "outputs": [
        {
          "output_type": "stream",
          "name": "stdout",
          "text": [
            "21\n",
            "31\n",
            "uct.ac.za\n"
          ]
        }
      ]
    },
    {
      "cell_type": "code",
      "source": [
        "#Exercise 5: Take the following Python code that stores a string: str = 'X-DSPAM-Confidence:0.8475'\n",
        "#Use find and string slicing to extract the portion of the string after the colon character and then use the float function to convert the extracted\n",
        "#string into a floating point number.\n",
        "data = 'X-DSPAM-Confidence:0.8475'\n",
        "colon= data.find(\":\")\n",
        "print(colon)\n",
        "number = data[colon+1:]\n",
        "number = float(number)\n",
        "print(number)\n"
      ],
      "metadata": {
        "colab": {
          "base_uri": "https://localhost:8080/"
        },
        "id": "4nZ850Zn_ZbT",
        "outputId": "06aa635f-e19e-4dff-b826-7d4fa00699cb"
      },
      "execution_count": 46,
      "outputs": [
        {
          "output_type": "stream",
          "name": "stdout",
          "text": [
            "18\n",
            "0.8475\n"
          ]
        }
      ]
    },
    {
      "cell_type": "code",
      "source": [],
      "metadata": {
        "id": "A11EwUP8B7ZX"
      },
      "execution_count": null,
      "outputs": []
    },
    {
      "cell_type": "code",
      "source": [],
      "metadata": {
        "id": "6rBdymEF-2N3"
      },
      "execution_count": null,
      "outputs": []
    }
  ]
}