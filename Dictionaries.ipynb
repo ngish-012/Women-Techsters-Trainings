{
  "nbformat": 4,
  "nbformat_minor": 0,
  "metadata": {
    "colab": {
      "provenance": [],
      "authorship_tag": "ABX9TyOAuxFW3Bbo8ZD0x3SAXE73",
      "include_colab_link": true
    },
    "kernelspec": {
      "name": "python3",
      "display_name": "Python 3"
    },
    "language_info": {
      "name": "python"
    }
  },
  "cells": [
    {
      "cell_type": "markdown",
      "metadata": {
        "id": "view-in-github",
        "colab_type": "text"
      },
      "source": [
        "<a href=\"https://colab.research.google.com/github/ngish-012/Hello-world/blob/master/Dictionaries.ipynb\" target=\"_parent\"><img src=\"https://colab.research.google.com/assets/colab-badge.svg\" alt=\"Open In Colab\"/></a>"
      ]
    },
    {
      "cell_type": "code",
      "execution_count": 1,
      "metadata": {
        "colab": {
          "base_uri": "https://localhost:8080/"
        },
        "id": "9_v19es6s6na",
        "outputId": "aa70f1f9-d539-4bcb-beba-9473d3f5ef66"
      },
      "outputs": [
        {
          "output_type": "stream",
          "name": "stdout",
          "text": [
            "{'4+': 4433, '9+': 987, '12+': 1155, '17+': 622}\n"
          ]
        }
      ],
      "source": [
        "numbers = [4433, 987, 1155, 622]\n",
        "# Index num 0     1     2    3\n",
        "\n",
        "numbers = [4433, 987, 1155, 622]\n",
        "# Index num  0    1     2    3\n",
        "\n",
        "#          '4+'  '9+' '12+' '17+' \n",
        "\n",
        "content_ratings = {'4+': 4433, '9+': 987, '12+': 1155, '17+': 622}\n",
        "print(content_ratings)"
      ]
    },
    {
      "cell_type": "code",
      "source": [
        "#indexing dictionaries\n",
        "over_9 = content_ratings['9+']\n",
        "print(over_9)"
      ],
      "metadata": {
        "colab": {
          "base_uri": "https://localhost:8080/"
        },
        "id": "8d5w6hirt1ik",
        "outputId": "6075b17b-d91c-4624-d2d6-fadbe94379d4"
      },
      "execution_count": 2,
      "outputs": [
        {
          "output_type": "stream",
          "name": "stdout",
          "text": [
            "987\n"
          ]
        }
      ]
    },
    {
      "cell_type": "code",
      "source": [
        "#Adding values to dictionaries\n",
        "content_ratings = {} \n",
        "content_ratings['4+'] = 4433\n",
        "content_ratings['9+'] = 987\n",
        "content_ratings['12+'] = 1155\n",
        "content_ratings['17+'] = 622\n",
        "\n",
        "print(content_ratings)\n"
      ],
      "metadata": {
        "colab": {
          "base_uri": "https://localhost:8080/"
        },
        "id": "BBK-mshruCY1",
        "outputId": "9b9d8283-f3b9-45d1-88ea-b0e6bccc0e72"
      },
      "execution_count": 3,
      "outputs": [
        {
          "output_type": "stream",
          "name": "stdout",
          "text": [
            "{'4+': 4433, '9+': 987, '12+': 1155, '17+': 622}\n"
          ]
        }
      ]
    },
    {
      "cell_type": "code",
      "source": [
        "#Data types in dictionaries\n",
        "d_1 = {'key_1': 'value_1', \n",
        "       'key_2': 1,\n",
        "       'key_3': 1.832,\n",
        "       'key_4': False,\n",
        "       'key_5': [1,2,3],\n",
        "       'key_6': {'inner_key' : 10}}\n",
        "\n",
        "print(d_1)\n",
        "print(d_1['key_1'])\n",
        "print(d_1['key_6'])"
      ],
      "metadata": {
        "colab": {
          "base_uri": "https://localhost:8080/"
        },
        "id": "JggMcaB5uSn2",
        "outputId": "31728af2-f3b5-4518-a7ef-a8e171803af3"
      },
      "execution_count": 4,
      "outputs": [
        {
          "output_type": "stream",
          "name": "stdout",
          "text": [
            "{'key_1': 'value_1', 'key_2': 1, 'key_3': 1.832, 'key_4': False, 'key_5': [1, 2, 3], 'key_6': {'inner_key': 10}}\n",
            "value_1\n",
            "{'inner_key': 10}\n"
          ]
        }
      ]
    },
    {
      "cell_type": "code",
      "source": [
        "#Dictionary keys can be almost any data type, except lists and dictionaries.\n",
        "d_1 = {5: 'int',\n",
        "       '5': 'string',\n",
        "       3.5: 'float',\n",
        "       False: 'Boolean'}\n",
        "\n",
        "print(d_1)"
      ],
      "metadata": {
        "colab": {
          "base_uri": "https://localhost:8080/"
        },
        "id": "VRp28S-HvHzv",
        "outputId": "7411b961-a755-431d-8bc0-2f08205bc0dd"
      },
      "execution_count": 5,
      "outputs": [
        {
          "output_type": "stream",
          "name": "stdout",
          "text": [
            "{5: 'int', '5': 'string', 3.5: 'float', False: 'Boolean'}\n"
          ]
        }
      ]
    },
    {
      "cell_type": "code",
      "source": [
        "d_2 = {[1,2,3]: 'list'}\n",
        "\n",
        "print(d_2)"
      ],
      "metadata": {
        "colab": {
          "base_uri": "https://localhost:8080/",
          "height": 208
        },
        "id": "rGB8IRSNvcpn",
        "outputId": "45bc9d96-bccc-4c45-a431-3a124caab43f"
      },
      "execution_count": 6,
      "outputs": [
        {
          "output_type": "error",
          "ename": "TypeError",
          "evalue": "ignored",
          "traceback": [
            "\u001b[0;31m---------------------------------------------------------------------------\u001b[0m",
            "\u001b[0;31mTypeError\u001b[0m                                 Traceback (most recent call last)",
            "\u001b[0;32m<ipython-input-6-d1e7c3eaa0b9>\u001b[0m in \u001b[0;36m<module>\u001b[0;34m\u001b[0m\n\u001b[0;32m----> 1\u001b[0;31m \u001b[0md_2\u001b[0m \u001b[0;34m=\u001b[0m \u001b[0;34m{\u001b[0m\u001b[0;34m[\u001b[0m\u001b[0;36m1\u001b[0m\u001b[0;34m,\u001b[0m\u001b[0;36m2\u001b[0m\u001b[0;34m,\u001b[0m\u001b[0;36m3\u001b[0m\u001b[0;34m]\u001b[0m\u001b[0;34m:\u001b[0m \u001b[0;34m'list'\u001b[0m\u001b[0;34m}\u001b[0m\u001b[0;34m\u001b[0m\u001b[0;34m\u001b[0m\u001b[0m\n\u001b[0m\u001b[1;32m      2\u001b[0m \u001b[0;34m\u001b[0m\u001b[0m\n\u001b[1;32m      3\u001b[0m \u001b[0mprint\u001b[0m\u001b[0;34m(\u001b[0m\u001b[0md_2\u001b[0m\u001b[0;34m)\u001b[0m\u001b[0;34m\u001b[0m\u001b[0;34m\u001b[0m\u001b[0m\n",
            "\u001b[0;31mTypeError\u001b[0m: unhashable type: 'list'"
          ]
        }
      ]
    },
    {
      "cell_type": "code",
      "source": [
        "d_3 = {{'key': 'value'}: 'dictionary'}\n",
        "\n",
        "print(d_3)"
      ],
      "metadata": {
        "colab": {
          "base_uri": "https://localhost:8080/",
          "height": 208
        },
        "id": "ROO2xe4Avh91",
        "outputId": "e909f40f-b875-4236-e4a6-b42a8188b7d9"
      },
      "execution_count": 7,
      "outputs": [
        {
          "output_type": "error",
          "ename": "TypeError",
          "evalue": "ignored",
          "traceback": [
            "\u001b[0;31m---------------------------------------------------------------------------\u001b[0m",
            "\u001b[0;31mTypeError\u001b[0m                                 Traceback (most recent call last)",
            "\u001b[0;32m<ipython-input-7-bfb1108b9835>\u001b[0m in \u001b[0;36m<module>\u001b[0;34m\u001b[0m\n\u001b[0;32m----> 1\u001b[0;31m \u001b[0md_3\u001b[0m \u001b[0;34m=\u001b[0m \u001b[0;34m{\u001b[0m\u001b[0;34m{\u001b[0m\u001b[0;34m'key'\u001b[0m\u001b[0;34m:\u001b[0m \u001b[0;34m'value'\u001b[0m\u001b[0;34m}\u001b[0m\u001b[0;34m:\u001b[0m \u001b[0;34m'dictionary'\u001b[0m\u001b[0;34m}\u001b[0m\u001b[0;34m\u001b[0m\u001b[0;34m\u001b[0m\u001b[0m\n\u001b[0m\u001b[1;32m      2\u001b[0m \u001b[0;34m\u001b[0m\u001b[0m\n\u001b[1;32m      3\u001b[0m \u001b[0mprint\u001b[0m\u001b[0;34m(\u001b[0m\u001b[0md_3\u001b[0m\u001b[0;34m)\u001b[0m\u001b[0;34m\u001b[0m\u001b[0;34m\u001b[0m\u001b[0m\n",
            "\u001b[0;31mTypeError\u001b[0m: unhashable type: 'dict'"
          ]
        }
      ]
    },
    {
      "cell_type": "code",
      "source": [
        "#Python tries to convert each dictionary key to an integer (even if the key is a data type other than an integer).\n",
        "print(hash(4))\n",
        "print(hash('four'))\n",
        "print(hash(3.32))\n",
        "print(hash(True))"
      ],
      "metadata": {
        "colab": {
          "base_uri": "https://localhost:8080/"
        },
        "id": "l2sioLO3vlJf",
        "outputId": "b2dcd8ef-7863-4f98-bfcb-898ab2968b72"
      },
      "execution_count": 8,
      "outputs": [
        {
          "output_type": "stream",
          "name": "stdout",
          "text": [
            "4\n",
            "-7020369840462132782\n",
            "737869762948381699\n",
            "1\n"
          ]
        }
      ]
    },
    {
      "cell_type": "code",
      "source": [
        "#When we populate a dictionary, we also need to make sure each key in that dictionary is unique. \n",
        "#If we use an identical key for two or more different values, Python keeps only the first key and the last value and removes the others \n",
        "#this means that we'll lose data.\n",
        "\n",
        "d_1 = {'a_key': 1,\n",
        "       'another_key': 2,\n",
        "       'a_key': 3,\n",
        "       'yet_another_key': 4,\n",
        "       'a_key': 5}\n",
        "\n",
        "print(d_1)"
      ],
      "metadata": {
        "colab": {
          "base_uri": "https://localhost:8080/"
        },
        "id": "QnYRLtY3wDGJ",
        "outputId": "3dd93e69-5699-41ff-b48e-0ea899cd1c6b"
      },
      "execution_count": 9,
      "outputs": [
        {
          "output_type": "stream",
          "name": "stdout",
          "text": [
            "{'a_key': 5, 'another_key': 2, 'yet_another_key': 4}\n"
          ]
        }
      ]
    },
    {
      "cell_type": "code",
      "source": [
        "#The hash() command converts the Boolean True to 1, and the Boolean False to 0. \n",
        "#This means the Booleans True and False will conflict with the integers 0 and 1\n",
        "\n",
        "d_1 = {1: 'one', True: 'Boolean'}\n",
        "d_2 = {False: 'Bool', 0: 'zero'}\n",
        "d_3 = {0: 'zero', 1: 'one',  2: 'two', True: 'true',\n",
        "       False: 'false'}\n",
        "\n",
        "print(d_1)\n",
        "print(d_2)\n",
        "print(d_3)"
      ],
      "metadata": {
        "colab": {
          "base_uri": "https://localhost:8080/"
        },
        "id": "U9K0xGrwwu52",
        "outputId": "ba8f7cf2-2167-4ce3-f96c-c229a3f367de"
      },
      "execution_count": 10,
      "outputs": [
        {
          "output_type": "stream",
          "name": "stdout",
          "text": [
            "{1: 'Boolean'}\n",
            "{False: 'zero'}\n",
            "{0: 'false', 1: 'true', 2: 'two'}\n"
          ]
        }
      ]
    },
    {
      "cell_type": "code",
      "source": [
        "#checking for values\n",
        "content_ratings = {'4+': 4433, '9+': 987, '12+': 1155, '17+': 622}\n",
        "\n",
        "print('12+' in content_ratings)"
      ],
      "metadata": {
        "colab": {
          "base_uri": "https://localhost:8080/"
        },
        "id": "uG2NyxBLw0cU",
        "outputId": "ae5b6c6c-f09d-4a69-dfbc-2df8a5bac056"
      },
      "execution_count": 11,
      "outputs": [
        {
          "output_type": "stream",
          "name": "stdout",
          "text": [
            "True\n"
          ]
        }
      ]
    },
    {
      "cell_type": "code",
      "source": [
        "content_ratings = {'4+': 4433, '9+': 987, '12+': 1155, '17+': 622}\n",
        "\n",
        "print('10+' in content_ratings)\n",
        "print('12+' in content_ratings)"
      ],
      "metadata": {
        "colab": {
          "base_uri": "https://localhost:8080/"
        },
        "id": "UmFIrOyG1yfc",
        "outputId": "c533b758-02b3-4d24-92ab-91c8e0e0aca5"
      },
      "execution_count": 12,
      "outputs": [
        {
          "output_type": "stream",
          "name": "stdout",
          "text": [
            "False\n",
            "True\n"
          ]
        }
      ]
    },
    {
      "cell_type": "code",
      "source": [],
      "metadata": {
        "id": "XEfWNRqJ14jb"
      },
      "execution_count": null,
      "outputs": []
    }
  ]
}