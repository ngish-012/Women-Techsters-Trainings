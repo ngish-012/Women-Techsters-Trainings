{
  "nbformat": 4,
  "nbformat_minor": 0,
  "metadata": {
    "colab": {
      "provenance": [],
      "collapsed_sections": [],
      "authorship_tag": "ABX9TyOGveRNdQvtOc3STw2hCblM",
      "include_colab_link": true
    },
    "kernelspec": {
      "name": "python3",
      "display_name": "Python 3"
    },
    "language_info": {
      "name": "python"
    }
  },
  "cells": [
    {
      "cell_type": "markdown",
      "metadata": {
        "id": "view-in-github",
        "colab_type": "text"
      },
      "source": [
        "<a href=\"https://colab.research.google.com/github/ngish-012/Hello-world/blob/master/Excercise_3_Loops.ipynb\" target=\"_parent\"><img src=\"https://colab.research.google.com/assets/colab-badge.svg\" alt=\"Open In Colab\"/></a>"
      ]
    },
    {
      "cell_type": "code",
      "source": [],
      "metadata": {
        "id": "zdr5illlr1l_"
      },
      "execution_count": null,
      "outputs": []
    },
    {
      "cell_type": "code",
      "source": [
        "#Infinite loops\n",
        "n = 10\n",
        "while True:\n",
        "  print(n, end=' ')\n",
        "  n = n - 1\n",
        "print('Done!')"
      ],
      "metadata": {
        "id": "vkqmZ5Grr6xT"
      },
      "execution_count": null,
      "outputs": []
    },
    {
      "cell_type": "code",
      "source": [
        "while True:\n",
        "  line = input('> ')\n",
        "  if line == 'done':\n",
        "    break\n",
        "    print(line)\n",
        "print('Done!')\n"
      ],
      "metadata": {
        "colab": {
          "base_uri": "https://localhost:8080/"
        },
        "id": "iHd3SrNQqan-",
        "outputId": "02a7cbe3-e5d7-413c-e9d2-1e78d2ebb55c"
      },
      "execution_count": null,
      "outputs": [
        {
          "output_type": "stream",
          "name": "stdout",
          "text": [
            "> mum\n",
            "> man\n",
            "> chicken\n",
            "> done\n",
            "Done!\n"
          ]
        }
      ]
    },
    {
      "cell_type": "code",
      "source": [
        "while True:\n",
        "  line = input('> ')\n",
        "  if line[0] == '#':\n",
        "     continue\n",
        "  if line == 'done':\n",
        "    break\n",
        "  print(line)\n",
        "print('Done!')"
      ],
      "metadata": {
        "colab": {
          "base_uri": "https://localhost:8080/"
        },
        "id": "ydXHAQUXpsGy",
        "outputId": "b90e450c-5eac-48d1-fcc8-ae6c7271d9b6"
      },
      "execution_count": null,
      "outputs": [
        {
          "output_type": "stream",
          "name": "stdout",
          "text": [
            "> mum\n",
            "mum\n",
            "> #DAD\n",
            "> DONE\n",
            "DONE\n",
            "> done\n",
            "Done!\n"
          ]
        }
      ]
    },
    {
      "cell_type": "code",
      "source": [
        "friends = ['Joseph', 'Glenn', 'Sally']\n",
        "for friend in friends:\n",
        "  print('Happy New Year:', friend)\n",
        "print('Done!')"
      ],
      "metadata": {
        "colab": {
          "base_uri": "https://localhost:8080/"
        },
        "id": "KSMWQtj1sCwM",
        "outputId": "d9163f9b-f8e2-41dd-99b1-96101c5d85e3"
      },
      "execution_count": null,
      "outputs": [
        {
          "output_type": "stream",
          "name": "stdout",
          "text": [
            "Happy New Year: Joseph\n",
            "Happy New Year: Glenn\n",
            "Happy New Year: Sally\n",
            "Done!\n"
          ]
        }
      ]
    },
    {
      "cell_type": "code",
      "source": [
        "#to count the number of items in a list\n",
        "\n",
        "count = 0\n",
        "for itervar in [3, 41, 12, 9, 74, 15]:\n",
        "     count = count + 1\n",
        "print('Count: ', count)"
      ],
      "metadata": {
        "colab": {
          "base_uri": "https://localhost:8080/"
        },
        "id": "b9Kvy5G1WEhv",
        "outputId": "03c792fe-0fc2-4c92-d288-73fb9ec29a8b"
      },
      "execution_count": null,
      "outputs": [
        {
          "output_type": "stream",
          "name": "stdout",
          "text": [
            "Count:  6\n"
          ]
        }
      ]
    },
    {
      "cell_type": "code",
      "source": [
        "#computes the total of a set of numbers\n",
        "\n",
        "total = 0\n",
        "for itervar in [3, 41, 12, 9, 74, 15]:\n",
        "    total = total + itervar\n",
        "print('Total: ', total)"
      ],
      "metadata": {
        "colab": {
          "base_uri": "https://localhost:8080/"
        },
        "id": "HRENF0m3WN5i",
        "outputId": "7b774f2e-b983-4a30-df6f-035c420ebea8"
      },
      "execution_count": null,
      "outputs": [
        {
          "output_type": "stream",
          "name": "stdout",
          "text": [
            "Total:  154\n"
          ]
        }
      ]
    },
    {
      "cell_type": "code",
      "source": [
        "#To find the largest value in a list or sequence\n",
        "\n",
        "largest = None\n",
        "print('Before:', largest)\n",
        "for itervar in [3, 41, 12, 9, 74, 15]:\n",
        "  if largest is None or itervar > largest :\n",
        "    largest = itervar\n",
        "  print('Loop:', itervar, largest)\n",
        "print('Largest:', largest)"
      ],
      "metadata": {
        "colab": {
          "base_uri": "https://localhost:8080/"
        },
        "id": "CicmcoHhXW4a",
        "outputId": "d8ef0c22-84de-43bd-c1fe-f06daed174c4"
      },
      "execution_count": null,
      "outputs": [
        {
          "output_type": "stream",
          "name": "stdout",
          "text": [
            "Before: None\n",
            "Loop: 3 3\n",
            "Loop: 41 41\n",
            "Loop: 12 41\n",
            "Loop: 9 41\n",
            "Loop: 74 74\n",
            "Loop: 15 74\n",
            "Largest: 74\n"
          ]
        }
      ]
    },
    {
      "cell_type": "code",
      "source": [
        "smallest = None\n",
        "print('Before:', smallest)\n",
        "for itervar in [3, 41, 12, 9, 74, 15]:\n",
        "  if smallest is None or itervar < smallest:\n",
        "    smallest = itervar\n",
        "  print('Loop:', itervar, smallest)\n",
        "print('Smallest:', smallest)"
      ],
      "metadata": {
        "colab": {
          "base_uri": "https://localhost:8080/"
        },
        "id": "a8tx2k9UZLVD",
        "outputId": "06897522-aa73-4878-baaf-02c6af228d8f"
      },
      "execution_count": null,
      "outputs": [
        {
          "output_type": "stream",
          "name": "stdout",
          "text": [
            "Before: None\n",
            "Loop: 3 3\n",
            "Loop: 41 3\n",
            "Loop: 12 3\n",
            "Loop: 9 3\n",
            "Loop: 74 3\n",
            "Loop: 15 3\n",
            "Smallest: 3\n"
          ]
        }
      ]
    },
    {
      "cell_type": "code",
      "source": [
        "def min(values):\n",
        "  smallest = None\n",
        "  for value in values:\n",
        "   if smallest is None or value < smallest:\n",
        "    smallest = value\n",
        "  return smallest"
      ],
      "metadata": {
        "id": "W3EM1bupavB3"
      },
      "execution_count": null,
      "outputs": []
    },
    {
      "cell_type": "code",
      "source": [
        "# Write a program which repeatedly reads numbers until the\n",
        "#user enters “done”. Once “done” is entered, print out the total, count,\n",
        "#and average of the numbers. If the user enters anything other than a\n",
        "#number, detect their mistake using try and except and print an error message and skip to the next number.\n",
        "\n",
        "total = 0\n",
        "count = 0\n",
        "while (True):\n",
        "  inp = input('Enter a number: ')\n",
        "  if inp == 'done':\n",
        "     break\n",
        "  value = float(inp)\n",
        "  total = total + value\n",
        "  count = count + 1\n",
        "  average = total / count\n",
        "print('Average:', average)\n"
      ],
      "metadata": {
        "id": "Klh3kFBHp9Lu"
      },
      "execution_count": null,
      "outputs": []
    }
  ]
}